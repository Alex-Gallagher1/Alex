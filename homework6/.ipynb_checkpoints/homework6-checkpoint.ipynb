{
 "cells": [
  {
   "cell_type": "code",
   "execution_count": 6,
   "id": "92a6e04b-6ce1-4dc5-94c5-43c1618c96ea",
   "metadata": {},
   "outputs": [],
   "source": [
    "import numpy as np"
   ]
  },
  {
   "cell_type": "code",
   "execution_count": 4,
   "id": "c567cc46-3ed2-43a0-a543-e644724e10d3",
   "metadata": {},
   "outputs": [
    {
     "name": "stdout",
     "output_type": "stream",
     "text": [
      "[ 80 108  36  48 124  68  16 200 156 140]\n",
      "24.4\n",
      "23.5\n",
      "13.828955130450023\n",
      "max value: 50, min value: 4\n",
      "max value: 50, min value: 4\n",
      "[False  True False False  True False False  True  True  True]\n"
     ]
    }
   ],
   "source": [
    "#--3.1 1D Numpy Arrays--\n",
    "list = [20, 27, 9, 12, 31, 17, 4, 50, 39, 35]\n",
    "arr = np.array(list)\n",
    "\n",
    "print(4*arr)\n",
    "print(np.mean(arr))\n",
    "print(np.median(arr))\n",
    "print(np.std(arr))\n",
    "min_index = np.argmin(arr)\n",
    "max_index = np.argmax(arr)\n",
    "print(f'max value: {arr[max_index]}, min value: {arr[min_index]}')\n",
    "print(f'max value: {np.max(arr)}, min value: {np.min(arr)}')\n",
    "arr2 = arr > 20\n",
    "print(arr2)"
   ]
  },
  {
   "cell_type": "code",
   "execution_count": 5,
   "id": "d702231b-eb5e-47fc-a42e-605ac5743900",
   "metadata": {},
   "outputs": [
    {
     "name": "stdout",
     "output_type": "stream",
     "text": [
      "(3, 4)\n",
      "[17 14 19]\n",
      "[ 8 21 14  3]\n",
      "[[10 24 34 18]\n",
      " [16 42 28  6]\n",
      " [12 26 38 22]]\n",
      "[ 6.33333333 15.33333333 16.66666667  7.66666667]\n",
      "11.5\n",
      "[17 21 19] [ 5 12 14  3]\n",
      "[ 5 12 17  9  8 21 14  3  6 13 19 11]\n",
      "(np.int64(1), np.int64(3)) (np.int64(1), np.int64(1))\n",
      "[[ 5  9 12 17]\n",
      " [ 3  8 14 21]\n",
      " [ 6 11 13 19]]\n"
     ]
    }
   ],
   "source": [
    "#--3.2 2D Numpy Arrays--\n",
    "matrix = np.array([\n",
    "    [5, 12, 17, 9],\n",
    "    [8, 21, 14, 3],\n",
    "    [6, 13, 19, 11]\n",
    "])\n",
    "print(np.shape(matrix))\n",
    "print(matrix[:,2])\n",
    "print(matrix[1,:])\n",
    "\n",
    "double_matrix = matrix * 2\n",
    "print(double_matrix)\n",
    "\n",
    "mean_column = np.mean(matrix, axis=0)\n",
    "print(mean_column)\n",
    "\n",
    "mean_matrix = np.mean(matrix)\n",
    "print(mean_matrix)\n",
    "print(np.max(matrix, axis=1), np.min(matrix, axis=0))\n",
    "\n",
    "matrix_flatten = matrix.flatten()\n",
    "print(matrix_flatten) #flatten turned the 2D array into a 1D array, matrix to vector\n",
    "\n",
    "flat_min_index = np.argmin(matrix_flatten)\n",
    "flat_max_index = np.argmax(matrix_flatten)\n",
    "min_coord = np.unravel_index(flat_min_index, (3,4))\n",
    "max_coord = np.unravel_index(flat_max_index, (3,4))\n",
    "print(min_coord, max_coord)\n",
    "\n",
    "matrix_greater15 = matrix > 15\n",
    "sorted_matrix = np.sort(matrix, axis = 1)\n",
    "print(sorted_matrix)"
   ]
  },
  {
   "cell_type": "code",
   "execution_count": 74,
   "id": "195ca6ea-9565-40a0-bdc5-cb860438ccd6",
   "metadata": {},
   "outputs": [
    {
     "name": "stdout",
     "output_type": "stream",
     "text": [
      "[[ 2  3  5]\n",
      " [11 13 17]\n",
      " [ 7 10 13]]\n"
     ]
    }
   ],
   "source": [
    "#---4 Prime Star Systems---\n",
    "arr3 = np.array([\n",
    "    [2,3,5],\n",
    "    [14,6,8],\n",
    "    [11,13,17],\n",
    "    [7,10,13]\n",
    "])\n",
    "def prime_rows(arr):\n",
    "    mask = arr % 2 !=0\n",
    "    mask = np.any(mask, axis=1)\n",
    "    return arr[mask]\n",
    "                         \n",
    "print(prime_rows(arr3))"
   ]
  },
  {
   "cell_type": "code",
   "execution_count": 104,
   "id": "4dc6a0eb-898f-4c9b-8a2f-08bda6c4211b",
   "metadata": {},
   "outputs": [
    {
     "name": "stdout",
     "output_type": "stream",
     "text": [
      "[[0. 1. 0. 1. 0. 1. 0. 1.]\n",
      " [1. 0. 1. 0. 1. 0. 1. 0.]\n",
      " [0. 1. 0. 1. 0. 1. 0. 1.]\n",
      " [1. 0. 1. 0. 1. 0. 1. 0.]\n",
      " [0. 1. 0. 1. 0. 1. 0. 1.]\n",
      " [1. 0. 1. 0. 1. 0. 1. 0.]\n",
      " [0. 1. 0. 1. 0. 1. 0. 1.]\n",
      " [1. 0. 1. 0. 1. 0. 1. 0.]]\n"
     ]
    }
   ],
   "source": [
    "#---5 Lets Play CHeckers!---\n",
    "#--5.1--\n",
    "blank = np.zeros((8,8))\n",
    "\n",
    "#--5.2--\n",
    "def checkerboard_odd(board):\n",
    "    for i in range(board.shape[0]):\n",
    "        if i % 2 != 0:\n",
    "            continue\n",
    "        else:\n",
    "            for j in range(board.shape[1]):\n",
    "                if (i+j) % 2 == 0:\n",
    "                    board[i,j] +=1\n",
    "    return board\n",
    "# print(board)\n",
    "\n",
    "#--5.3--\n",
    "def checkerboard(board):\n",
    "    for i in range(board.shape[0]):\n",
    "        for j in range(board.shape[1]):\n",
    "            if (i+j) % 2 == 0:\n",
    "                board[i,j] +=1\n",
    "    return board\n",
    "\n",
    "# print(checkerboard(blank))\n",
    "\n",
    "#--5.4--\n",
    "def checkerboard_reverse(board):\n",
    "    for i in range(board.shape[0]):\n",
    "        for j in range(board.shape[1]):\n",
    "            if (i+j) % 2 != 0:\n",
    "                board[i,j] +=1\n",
    "    return board\n",
    "\n",
    "print(checkerboard_reverse(blank))"
   ]
  },
  {
   "cell_type": "code",
   "execution_count": null,
   "id": "76944616-a8f3-4a0b-8a04-fa83372a4a39",
   "metadata": {},
   "outputs": [],
   "source": []
  }
 ],
 "metadata": {
  "kernelspec": {
   "display_name": "Python 3 (ipykernel)",
   "language": "python",
   "name": "python3"
  },
  "language_info": {
   "codemirror_mode": {
    "name": "ipython",
    "version": 3
   },
   "file_extension": ".py",
   "mimetype": "text/x-python",
   "name": "python",
   "nbconvert_exporter": "python",
   "pygments_lexer": "ipython3",
   "version": "3.13.8"
  }
 },
 "nbformat": 4,
 "nbformat_minor": 5
}
